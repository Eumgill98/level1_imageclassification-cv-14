{
 "cells": [
  {
   "attachments": {},
   "cell_type": "markdown",
   "metadata": {},
   "source": [
    "## 60대 데이터 늘리기"
   ]
  },
  {
   "cell_type": "code",
   "execution_count": 54,
   "metadata": {},
   "outputs": [],
   "source": [
    "import torch\n",
    "from timm.data.mixup import Mixup\n",
    "from timm.data.dataset import ImageDataset\n",
    "from timm.data.loader import create_loader\n",
    "# import torchvision.transforms\n",
    "import torchvision\n",
    "import numpy as np\n",
    "import os\n",
    "from enum import Enum\n",
    "from PIL import Image\n",
    "import PIL\n",
    "\n",
    "from torchvision.utils import save_image\n",
    "import shutil\n",
    "import random"
   ]
  },
  {
   "cell_type": "code",
   "execution_count": 55,
   "metadata": {},
   "outputs": [],
   "source": [
    "random.seed(42)     # 일정한 데이터 생성을 확인\n",
    "data_directory = '/opt/ml/input/data/train/images'"
   ]
  },
  {
   "cell_type": "code",
   "execution_count": 56,
   "metadata": {},
   "outputs": [],
   "source": [
    "def split_profile_by_gender_60s(profiles):      #성별별로 데이터를 나눕니다\n",
    "    male,female = [], []        \n",
    "    for profile in profiles:\n",
    "        if \"Fake\" in profile:  # 생성한 데이터를 제외한 데이터들을 반환하기 위해\n",
    "            continue\n",
    "        id, gender,species,age = profile.split(\"_\")\n",
    "        if age == \"60\":\n",
    "            if gender == \"male\":\n",
    "                male.append(os.path.join(data_directory,profile))\n",
    "            else:\n",
    "                female.append(os.path.join(data_directory,profile))\n",
    "    return [male,female]"
   ]
  },
  {
   "cell_type": "code",
   "execution_count": 57,
   "metadata": {},
   "outputs": [],
   "source": [
    "profiles = os.listdir(data_directory)\n",
    "profiles = [profile for profile in profiles if not profile.startswith(\".\")]\n",
    "male,female = split_profile_by_gender_60s(profiles)"
   ]
  },
  {
   "cell_type": "code",
   "execution_count": 58,
   "metadata": {},
   "outputs": [],
   "source": [
    "def make_folder(save_dir):\n",
    "    if os.path.isdir(save_dir):\n",
    "        return\n",
    "    else:\n",
    "        os.mkdir(save_dir)\n",
    "        \n",
    "def not_random_make_fakes_by_gender(gender,profiles,save_dir=data_directory):   # 순서대로 mixup\n",
    "    length = len(profiles)\n",
    "    id = 0\n",
    "    ids = sorted(os.listdir(save_dir))\n",
    "    if ids:\n",
    "        id = int(sorted(os.listdir(save_dir))[-1].split(\"_\")[0])\n",
    "    for i in range(length//2):\n",
    "        id += 1\n",
    "        save_profile_dir = f\"{id:0>6}_{gender}_Fake_60\"\n",
    "        os.mkdir(os.path.join(save_dir,save_profile_dir))\n",
    "        j = i+length//2\n",
    "\n",
    "        make_images(i,j,save_dir,save_profile_dir,profiles)\n",
    "        \n",
    "def random_make_fakes_by_gender(gender,profiles,save_dir=data_directory):       #random하게 mixup\n",
    "    limit = len(profiles)//2\n",
    "    splited_A = set(random.sample([i for i in range(len(profiles))],limit))\n",
    "    splited_B = list(set([i for i in range(len(profiles))]) - splited_A)\n",
    "    splited_A = list(splited_A)\n",
    "    \n",
    "    id = 0\n",
    "    ids = sorted(os.listdir(save_dir))\n",
    "    if ids:\n",
    "        id = int(sorted(os.listdir(save_dir))[-1].split(\"_\")[0])\n",
    "    for i in range(len(splited_A)):\n",
    "        id += 1\n",
    "        save_profile_dir = f\"{id:0>6}_{gender}_Fake_60\"\n",
    "        os.mkdir(os.path.join(save_dir,save_profile_dir))\n",
    "\n",
    "        make_images(splited_A[i],splited_B[i],save_dir,save_profile_dir,profiles)\n",
    "\n",
    "def make_images(profile_i,profile_j,save_dir,save_profile_dir,profiles):    # 만든 이미지 저장\n",
    "    images = [\"incorrect_mask\",\"mask1\",\"mask2\",\"mask3\",\"mask4\",\"mask5\",\"normal\"]\n",
    "    ext = \".jpg\"\n",
    "    # all\n",
    "    for image in images:\n",
    "        image_A = np.array(Image.open(os.path.join(profiles[profile_i], image+ext)))//2\n",
    "        image_B = np.array(Image.open(os.path.join(profiles[profile_j], image+ext)))//2\n",
    "        new_image = (image_A+image_B)\n",
    "        img = PIL.Image.fromarray(new_image)\n",
    "        img.save(os.path.join(save_dir,save_profile_dir,image+ext))    \n",
    "    \n",
    "\n",
    "def not_random_make_fake_pics(save_dir=data_directory):     # 랜덤하지 않게 반을 나누어 결합\n",
    "    make_folder(save_dir)\n",
    "    not_random_make_fakes_by_gender(\"male\",male,save_dir)\n",
    "    not_random_make_fakes_by_gender(\"female\",female,save_dir)\n",
    "    print(\"Make Done.\")\n",
    "\n",
    "def random_make_fake_pics(save_dir=data_directory):         # 랜덤하게 반을 나누어 결합\n",
    "    make_folder(save_dir)\n",
    "    random_make_fakes_by_gender(\"male\",male,save_dir)\n",
    "    random_make_fakes_by_gender(\"female\",female,save_dir)\n",
    "    print(\"Randomly Make Done.\")\n",
    "    \n",
    "    "
   ]
  },
  {
   "cell_type": "code",
   "execution_count": 59,
   "metadata": {},
   "outputs": [],
   "source": [
    "def rm_fake_pics(save_dir=data_directory):                  # 만든 fake 디렉토리 전체 제거\n",
    "    if not os.path.isdir(save_dir):\n",
    "        print(\"No folder\")\n",
    "        return\n",
    "    for fake in [i for i in os.listdir(save_dir) if \"Fake\" in i]:\n",
    "        fake_dir = os.path.join(save_dir,fake)\n",
    "        shutil.rmtree(fake_dir)\n",
    "    print(\"Remove Done.\")\n",
    "\n"
   ]
  },
  {
   "cell_type": "code",
   "execution_count": 60,
   "metadata": {},
   "outputs": [],
   "source": [
    "# # # 비교를 위한 코드입니다. 경로의 Default가 실제 데이터셋 위치입니다.    -> 오류 수정했습니다.\n",
    "# rm_fake_pics('./not_random')\n",
    "# rm_fake_pics('./random')\n",
    "# not_random_make_fake_pics('./random')\n",
    "# random_make_fake_pics('./random')"
   ]
  },
  {
   "cell_type": "code",
   "execution_count": 61,
   "metadata": {},
   "outputs": [
    {
     "name": "stdout",
     "output_type": "stream",
     "text": [
      "Remove Done.\n",
      "Randomly Make Done.\n"
     ]
    }
   ],
   "source": [
    "rm_fake_pics()\n",
    "random_make_fake_pics()"
   ]
  }
 ],
 "metadata": {
  "kernelspec": {
   "display_name": "base",
   "language": "python",
   "name": "python3"
  },
  "language_info": {
   "codemirror_mode": {
    "name": "ipython",
    "version": 3
   },
   "file_extension": ".py",
   "mimetype": "text/x-python",
   "name": "python",
   "nbconvert_exporter": "python",
   "pygments_lexer": "ipython3",
   "version": "3.8.5"
  },
  "orig_nbformat": 4
 },
 "nbformat": 4,
 "nbformat_minor": 2
}
