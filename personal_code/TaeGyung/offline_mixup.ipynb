{
 "cells": [
  {
   "attachments": {},
   "cell_type": "markdown",
   "metadata": {},
   "source": [
    "## 60대 데이터 늘리기"
   ]
  },
  {
   "cell_type": "code",
   "execution_count": 100,
   "metadata": {},
   "outputs": [],
   "source": [
    "import torch\n",
    "from timm.data.mixup import Mixup\n",
    "from timm.data.dataset import ImageDataset\n",
    "from timm.data.loader import create_loader\n",
    "# import torchvision.transforms\n",
    "import torchvision\n",
    "import numpy as np\n",
    "import os\n",
    "from enum import Enum\n",
    "from PIL import Image\n",
    "import PIL\n",
    "\n",
    "from torchvision.utils import save_image\n"
   ]
  },
  {
   "cell_type": "code",
   "execution_count": 101,
   "metadata": {},
   "outputs": [],
   "source": [
    "data_directory = '/opt/ml/input/data/train/images'\n"
   ]
  },
  {
   "cell_type": "code",
   "execution_count": 107,
   "metadata": {},
   "outputs": [],
   "source": [
    "def split_profile_by_gender_60s(profiles):\n",
    "    male,female = [], []\n",
    "    for profile in profiles:\n",
    "        if profile.startswith(\"Fake\"):  # 생성한 데이터를 제외한 데이터들을 반환하기 위해\n",
    "            continue\n",
    "        id, gender,species,age = profile.split(\"_\")\n",
    "        if age == \"60\":\n",
    "            if gender == \"male\":\n",
    "                male.append(os.path.join(data_directory,profile))\n",
    "            else:\n",
    "                female.append(os.path.join(data_directory,profile))\n",
    "    return [male,female]"
   ]
  },
  {
   "cell_type": "code",
   "execution_count": 108,
   "metadata": {},
   "outputs": [],
   "source": [
    "profiles = os.listdir(data_directory)\n",
    "profiles = [profile for profile in profiles if not profile.startswith(\".\")]\n",
    "male,female = split_profile_by_gender_60s(profiles)"
   ]
  },
  {
   "cell_type": "code",
   "execution_count": 111,
   "metadata": {},
   "outputs": [],
   "source": [
    "import shutil\n",
    "def make_images(profile_i,profile_j,save_dir,save_profile_dir,profiles):\n",
    "    images = [\"incorrect_mask\",\"mask1\",\"mask2\",\"mask3\",\"mask4\",\"mask5\",\"normal\"]\n",
    "    ext = \".jpg\"\n",
    "    # all\n",
    "    for image in images:\n",
    "        image_A = np.array(Image.open(os.path.join(profiles[profile_i], image+ext)))//2\n",
    "        image_B = np.array(Image.open(os.path.join(profiles[profile_j], image+ext)))//2\n",
    "        new_image = (image_A+image_B)\n",
    "        img = PIL.Image.fromarray(new_image)\n",
    "        img.save(os.path.join(save_dir,save_profile_dir,image+ext))    \n",
    "    \n",
    "def make_fakes_by_gender(gender,profiles,save_dir=data_directory):\n",
    "    length = len(profiles)\n",
    "    cnt = 0\n",
    "\n",
    "    for folder in sorted(os.listdir(save_dir)):     # Fake 폴더 있는지 확인\n",
    "        if folder.startswith(\"Fake\"):\n",
    "            cnt = int(folder.split(\"_\")[1])\n",
    "    for i in range(length//2):\n",
    "        cnt += 1\n",
    "        save_profile_dir = f\"Fake_{cnt:0>6}_{gender}_Asian_60\"\n",
    "        os.mkdir(os.path.join(save_dir,save_profile_dir))\n",
    "        j = i+length//2\n",
    "\n",
    "        make_images(i,j,save_dir,save_profile_dir,profiles)\n",
    "    # print(save_dir)\n",
    "    \n",
    "def make_fake_pics_not_random():\n",
    "    make_fakes_by_gender(\"male\",male)\n",
    "    make_fakes_by_gender(\"female\",female)\n",
    "    print(\"Make Done.\")\n",
    "    \n",
    "def rm_fake_pics(save_dir=data_directory):  # 만든 fake 디렉토리 전체 제거\n",
    "    for fake in [i for i in os.listdir(save_dir) if i.startswith(\"Fake\")]:\n",
    "        fake_dir = os.path.join(save_dir,fake)\n",
    "        shutil.rmtree(fake_dir)\n",
    "    print(\"Remove Done.\")\n",
    "\n"
   ]
  },
  {
   "cell_type": "code",
   "execution_count": 112,
   "metadata": {},
   "outputs": [
    {
     "name": "stdout",
     "output_type": "stream",
     "text": [
      "Remove Done.\n",
      "Make Done.\n"
     ]
    }
   ],
   "source": [
    "rm_fake_pics()\n",
    "make_fake_pics_not_random()"
   ]
  },
  {
   "cell_type": "code",
   "execution_count": null,
   "metadata": {},
   "outputs": [],
   "source": []
  },
  {
   "cell_type": "code",
   "execution_count": null,
   "metadata": {},
   "outputs": [],
   "source": []
  }
 ],
 "metadata": {
  "kernelspec": {
   "display_name": "base",
   "language": "python",
   "name": "python3"
  },
  "language_info": {
   "codemirror_mode": {
    "name": "ipython",
    "version": 3
   },
   "file_extension": ".py",
   "mimetype": "text/x-python",
   "name": "python",
   "nbconvert_exporter": "python",
   "pygments_lexer": "ipython3",
   "version": "3.8.5"
  },
  "orig_nbformat": 4
 },
 "nbformat": 4,
 "nbformat_minor": 2
}
